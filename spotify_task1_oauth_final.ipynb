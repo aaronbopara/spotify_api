{
 "cells": [
  {
   "cell_type": "markdown",
   "metadata": {},
   "source": [
    "# **Spotify Web API Task 1 : Obtaining an OAuth Token**\n",
    "\n",
    "### **Background** ###\n",
    "This notebook provides a step-by-step guide to obtaining an OAuth token from the Spotify Web API. An OAuth token is necessary to authenticate requests and access specific data on Spotify, such as creating and modifying playlists on your account.\n",
    "\n",
    "### **Prerequisites**\n",
    "Before proceeding, you need to set up a Spotify Developer App and obtain the following details:\n",
    "\n",
    "- **Client ID**: Your application's unique identifier.\n",
    "\n",
    "- **Client Secret**: A secret key for your application, used to authenticate your requests.\n",
    "\n",
    "- **Redirect URI**: A URL to which Spotify will redirect after user authorization. This must be registered in your Spotify Developer Dashboard.\n",
    "<br>\n",
    "\n",
    "\n",
    "These credentials can be found on your app's dashboard on the Spotify Developer Portal. Make sure to never hardcode your client ID and client secret directly in your scripts due to security risks. Instead, store them securely, such as in an environment file (.env), and load them into your program as needed.\n",
    "<br>\n",
    "\n",
    "### **User Authentication**\n",
    "To obtain an OAuth token, you will need to log in to your Spotify account and grant permission for the app to access your data. This is required to authenticate and authorize your requests. The program will ask for the following... \n",
    "\n",
    "- **Username or email address :** The users Spotify username or email address \n",
    "- **User ID :** The users Spotify User ID, this can be found by checking your profile URI on the Spotify Web Application. \n",
    "- **Password :** The users Spotify password \n",
    "\n",
    "\n",
    "### **Scope of Access**\n",
    "The OAuth token you obtain through this process will allow your application to create and modify playlists on your Spotify account. Depending on the permissions (scopes) you request, you may have access to additional features. Make sure to review and request only the scopes your application needs.For this request our scope is 'playlist-modify-private playlist-modify-public' as we want to use this token in the next task, where we will be creating a playlist and appending songs to it.\n",
    "\n",
    "### **Step by Step Guide**\n",
    "\n",
    "Here is a step by step guide to the process :\n",
    "\n",
    "1) **Import Libraries :** Importing the relevant libraries.\n",
    "\n",
    "2) **Import Secrets :** Initialise the .env file and retrieve sensitive information from within.\n",
    "\n",
    "3) **Make HTTP Headers :** Set up the Spotify Authorisation Header Credentials \n",
    "\n",
    "4) **Selenium to Automate Log In :** Set up browser environment, open Spotify Authorisation page, and ask user to input log in details. \n",
    "\n",
    "6) **Parse Response for Authorisation Code :** Obtain and parse through response URL to obtain authorisation code.\n",
    "\n",
    "7) **Exchange Authorisation Code :** Access the Spotify Web API, make a POST request and obtain JSON response. \n",
    "\n",
    "8) **Obtain OAuth and Refresh Tokens :** Parsing through JSON response to obtain tokens. \n",
    "\n",
    "9) **Export Tokens to ENV File :** Export the tokens to .env file \n",
    "\n",
    "By the end of this notebook, you will have a clear understanding of how to obtain an OAuth token to the Spotify Web API"
   ]
  },
  {
   "cell_type": "markdown",
   "metadata": {},
   "source": []
  },
  {
   "cell_type": "code",
   "execution_count": 106,
   "metadata": {},
   "outputs": [],
   "source": [
    "# Imports \n",
    "from dotenv import load_dotenv\n",
    "import os \n",
    "import base64\n",
    "import urllib.parse\n",
    "import getpass\n",
    "from selenium import webdriver\n",
    "from selenium.webdriver.common.by import By\n",
    "from http.server import BaseHTTPRequestHandler\n",
    "import requests"
   ]
  },
  {
   "cell_type": "code",
   "execution_count": 94,
   "metadata": {},
   "outputs": [],
   "source": [
    "# Initialise the secrets within .env file \n",
    "load_dotenv()\n",
    "client_id = os.getenv('CLIENT_ID')\n",
    "client_secret = os.getenv('CLIENT_SECRET')"
   ]
  },
  {
   "cell_type": "code",
   "execution_count": 95,
   "metadata": {},
   "outputs": [],
   "source": [
    "# Spotify API credentials \n",
    "client_secret # This is specific to the app you are building and can be found in the Spotify API Developer Dashboard\n",
    "client_id # This is specific to the app you are building and can be found in the Spotify API Developer Dashboard\n",
    "redirect_uri = 'http://localhost:8888/callback'  # Must match the redirect URI set in the apps Spotify Developer Dashboard\n",
    "scope = 'playlist-modify-private playlist-modify-public'  # These are the scopes needed for our app as we need to create playlist \n",
    "                                                          # Change based on your project needs\n",
    "\n",
    "# Direct to Spotify's authorization URL\n",
    "auth_url = (\n",
    "    \"https://accounts.spotify.com/authorize\"\n",
    "    \"?response_type=code\"\n",
    "    f\"&client_id={client_id}\"\n",
    "    f\"&redirect_uri={urllib.parse.quote(redirect_uri)}\"\n",
    "    f\"&scope={urllib.parse.quote(scope)}\"\n",
    ")\n",
    "\n",
    "# Opens a chrome window for the user to sign in with Spotify Log in and Password\n",
    "driver = webdriver.Chrome()\n",
    "driver.get(auth_url)"
   ]
  },
  {
   "cell_type": "code",
   "execution_count": 96,
   "metadata": {},
   "outputs": [],
   "source": [
    "# Locate the username input field using the 'id' attribute\n",
    "input_field = driver.find_element(By.ID, \"login-username\")\n",
    "# Click into the username field \n",
    "input_field.click()\n",
    "# Ask the user to input their Spotify username \n",
    "input_field.send_keys(input(\"Please enter your Spotify Username or Password\"))\n",
    "spotify_user_id = input('What is your Spotify USER ID?')"
   ]
  },
  {
   "cell_type": "code",
   "execution_count": 97,
   "metadata": {},
   "outputs": [],
   "source": [
    "# Locate the password input field using the 'id' attribute\n",
    "password_field = driver.find_element(By.ID, \"login-password\")\n",
    "# Click into the password field\n",
    "password_field.click()\n",
    "# Ask the user to input their Spotify password \n",
    "password_field.send_keys(getpass.getpass(prompt='Please enter your password'))"
   ]
  },
  {
   "cell_type": "code",
   "execution_count": 98,
   "metadata": {},
   "outputs": [],
   "source": [
    "# Locate the login button using the 'id' attribute\n",
    "login_button = driver.find_element(By.ID, \"login-button\")\n",
    "# Click the login button\n",
    "login_button.click()"
   ]
  },
  {
   "cell_type": "code",
   "execution_count": 99,
   "metadata": {},
   "outputs": [
    {
     "name": "stdout",
     "output_type": "stream",
     "text": [
      "http://localhost:8888/callback?code=AQA3RqLqVNGR_KykoAgzoPIwOsXBxZJACVRZbkGPkTQ6AVDzTSfU7C4Y6aJhgYF3v0ReYRCtI33nk0IRijNQ3KOH2z0D9IrhcIusg_lmN4u1a4HpHDcHtyc-Q6XEW-YgX5-_w7hRTJTnBPw-95JsYEhtI9v5q77jUjsXR2q1cG2CY48zvhDExRWepMwZOnW1ae7phUDzJfAuBMSHXBs6psscsB5i2rcvwq2XZ99VhGjjvd0\n"
     ]
    }
   ],
   "source": [
    "# Get the URL of the page once user is logged in \n",
    "current_url = driver.current_url\n",
    "print(current_url)\n",
    "\n",
    "# Parse the url in order to get authorisation code \n",
    "parsed_url = urllib.parse.urlparse(current_url)\n",
    "auth_code = urllib.parse.parse_qs(parsed_url.query).get('code')\n",
    "if not auth_code:\n",
    "    print(\"Error: Authorization code not found in the redirect URL.\")\n",
    "else:\n",
    "    auth_code = auth_code[0]"
   ]
  },
  {
   "cell_type": "code",
   "execution_count": 100,
   "metadata": {},
   "outputs": [],
   "source": [
    "# Exchange the authorization code for an OAuth token\n",
    "\n",
    "# URL of the Spotify API endpoint which issues OAuth tokens\n",
    "token_url = 'https://accounts.spotify.com/api/token'\n",
    "# Encode client credentials (Base64 encoding), Spotify's token endpoint expects this in the 'Authorization' header\n",
    "client_credentials = f\"{client_id}:{client_secret}\"\n",
    "encoded_credentials = base64.b64encode(client_credentials.encode()).decode()\n",
    "\n",
    "# HTTP Headers are neccessary to authenicate and specify the request \n",
    "# Content type specifies the format of the data being sent to the API\n",
    "headers = {\n",
    "'Authorization': f'Basic {encoded_credentials}',\n",
    " 'Content-Type': 'application/x-www-form-urlencoded'\n",
    "}\n",
    "# Specifies the method we are using to obtain the OAuth token  \n",
    "data = {\n",
    "'grant_type': 'authorization_code',\n",
    "'code': auth_code,\n",
    "'redirect_uri': redirect_uri\n",
    "    }\n",
    "\n",
    "# Make the POST request to get the new access token\n",
    "response = requests.post(token_url, headers=headers, data=data)"
   ]
  },
  {
   "cell_type": "code",
   "execution_count": 101,
   "metadata": {},
   "outputs": [
    {
     "name": "stdout",
     "output_type": "stream",
     "text": [
      "Access Token: BQCSunvs0LH6bd2yYXemQNaYWjEMb97w-2ncqImJoD6niQ0rHzy9O19nWmJOi2aND9QNx2T-P7ta_D4G1_UVegOip1WZz5hq0RuF6myvN_iU51UgsOXvc2WIDYerr2TtaoyL59LyahWWigy1kNhQ6cejItfLop7CXq9rwgMoAhoLdHQ0JkUpczP5y1bfGPB6VqVTIMB6uEZ--Vjv7ovywEeYc7M1Psy_qjYGmdsLIHLhfTgsiatCIcs\n",
      "Refresh Token: AQBo1wBpdi89pBTsawe1LUY5iISrJU7wdQvARr9DMlRMSL7mv9Z6yy2oZ_f_oPuCAh3dMVjqSRDiHgsJV7Z4lMJnbnGJQJFpD_hpLIUbWG7Utc05j1xa2ARo_f0etqKLqGU\n"
     ]
    }
   ],
   "source": [
    "# Checking the request was successful and obtaining the access and refresh tokens \n",
    "if response.status_code == 200:\n",
    "        token_info = response.json()\n",
    "        access_token = token_info['access_token']\n",
    "        refresh_token = token_info['refresh_token']\n",
    "        print(\"Access Token:\", access_token)\n",
    "        print(\"Refresh Token:\", refresh_token)\n",
    "else:\n",
    "        print(\"Failed to get access token:\", response.status_code, response.text)"
   ]
  },
  {
   "cell_type": "code",
   "execution_count": 104,
   "metadata": {},
   "outputs": [],
   "source": [
    "# Path to your .env file\n",
    "env_file_path = \".env\""
   ]
  },
  {
   "cell_type": "code",
   "execution_count": 105,
   "metadata": {},
   "outputs": [],
   "source": [
    "# Write the token to the .env file\n",
    "with open(env_file_path, \"w\") as env_file:\n",
    "    env_file.write(f\"OAUTH_TOKEN ='{access_token}'\\nREFRESH_TOKEN ='{refresh_token}'\\nCLIENT_ID ='{client_id}'\\nCLIENT_SECRET ='{client_secret}'\\nUSER_ID ='{spotify_user_id}'\")"
   ]
  }
 ],
 "metadata": {
  "kernelspec": {
   "display_name": "venv",
   "language": "python",
   "name": "python3"
  },
  "language_info": {
   "codemirror_mode": {
    "name": "ipython",
    "version": 3
   },
   "file_extension": ".py",
   "mimetype": "text/x-python",
   "name": "python",
   "nbconvert_exporter": "python",
   "pygments_lexer": "ipython3",
   "version": "3.9.6"
  }
 },
 "nbformat": 4,
 "nbformat_minor": 2
}
