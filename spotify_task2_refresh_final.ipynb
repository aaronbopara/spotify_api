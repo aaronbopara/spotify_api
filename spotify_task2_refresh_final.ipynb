{
 "cells": [
  {
   "cell_type": "markdown",
   "metadata": {},
   "source": [
    "# **Spotify Web API Task 2: Obtaining an Spotify OAuth Refresh Token**\n",
    "### **Background** ###\n",
    "This notebook will guide you through obtaining a new OAuth token from the Spotify Web API using a Refresh token, as OAuth Tokens expire after an hour.\n",
    "\n",
    "This program will use the first refresh token we first retrieved when making our first request in Task 1. We will then use it to obtain a new access token, which will overwrite the OAuth token in the .env file. \n",
    "\n",
    "For future refresh token requests we still use the initial refresh token which will then produce a new access token. \n",
    "<br>\n",
    "\n",
    "### **Prerequisites**\n",
    "Before proceeding, this will require you to have previously obtained the following : \n",
    "\n",
    "- **OAuth Token**: Grants access to the Spotify Web API, expires after an hour.\n",
    "\n",
    "- **Refresh Token**: Used to obtain a new OAuth Token when the current one has expired. \n",
    "\n",
    "you can repeatedly use refresh tokens to obtain new OAuth Tokens. \n",
    "You will also need to set up a Spotify Developer App and obtain the following details:\n",
    "\n",
    "- **Client ID**: Your application's unique identifier.\n",
    "\n",
    "- **Client Secret** : A secret key for your application, used to authenticate your requests.\n",
    "<br>\n",
    "\n",
    " Make sure to never hardcode these details directly in your scripts due to security risks. Instead, store them securely, such as in an environment file (.env), and load them into your program as needed. \n",
    "\n",
    "\n",
    " ### **Step by Step Guide** ###\n",
    "\n",
    " 1) **Import Libraries :** Import the relevant libraries.\n",
    " 2) **Import Secrets :** Access the Client ID, Client Secret, OAuth Token, and Refresh Token from within the .env file \n",
    " 3) **Make HTTPP Request :** Exchange these details with the Spotify Web API and obtain a new Refresh Token \n",
    " 4) **Export New Tokens :** Save this new information inside your .env file "
   ]
  },
  {
   "cell_type": "code",
   "execution_count": 16,
   "metadata": {},
   "outputs": [],
   "source": [
    "# Imports \n",
    "from dotenv import load_dotenv\n",
    "import os\n",
    "import requests\n",
    "import base64"
   ]
  },
  {
   "cell_type": "code",
   "execution_count": 17,
   "metadata": {},
   "outputs": [],
   "source": [
    "# Initialise the secrets within .env file \n",
    "load_dotenv()\n",
    "client_id = os.getenv('CLIENT_ID')\n",
    "access_token = os.getenv('OAUTH_TOKEN')\n",
    "client_secret = os.getenv('CLIENT_SECRET')\n",
    "refresh_token = os.getenv('REFRESH_TOKEN')\n",
    "spotify_id = os.getenv('USER_ID')\n",
    "youtube_api = os.getenv('YOUTUBE_API_KEY')"
   ]
  },
  {
   "cell_type": "code",
   "execution_count": 21,
   "metadata": {},
   "outputs": [
    {
     "name": "stdout",
     "output_type": "stream",
     "text": [
      "New Access Token: BQDhyavJZAVKO8OFJYuKOldkYphLDFsYaYLjBeVZ5hnYk0u-lD6I3PBoEdPS5caDyO8edMyddbBjyyuZcCf4f7M3mXfIizPaHq8tIXYCZcJrMM_5PAk5kKZNv1rrxf_SbYznNoBrzemdJdQxnikEGjyKIGKjTLDlFOjjwkpq42meSqGdsdGiSqmLfgXdxF9rqRctGj8Mlz_EpIkT2LXyZ0CgM0eOHCshd9oYDLkBUHzYsKKKn5jsJeX70BmMCg_2wR_L\n"
     ]
    }
   ],
   "source": [
    "# Exchange details for new OAuth Token \n",
    "\n",
    "# URL of the Spotify API endpoint which issues OAuth tokens\n",
    "token_url = 'https://accounts.spotify.com/api/token'\n",
    "\n",
    "# Encode client credentials (Base64 encoding), Spotify's token endpoint expects this in the 'Authorization' header\n",
    "client_credentials = f\"{client_id}:{client_secret}\"\n",
    "encoded_credentials = base64.b64encode(client_credentials.encode()).decode()\n",
    "\n",
    "# HTTP Headers are neccessary to authenicate and specify the request \n",
    "# Content type specifies the format of the data being sent to the API\n",
    "headers = {\n",
    "    'Authorization': f'Basic {encoded_credentials}',\n",
    "    'Content-Type': 'application/x-www-form-urlencoded'\n",
    "}\n",
    "# Specifies the method we are using to obtain the OAuth token  \n",
    "data = {\n",
    "    'grant_type': 'refresh_token',\n",
    "    'refresh_token': refresh_token\n",
    "}\n",
    "\n",
    "# Make the POST request to get the new access token\n",
    "response = requests.post(token_url, headers=headers, data=data)\n",
    "\n",
    "# Checking if the request was successful and obtain the access and refresh tokens\n",
    "if response.status_code == 200:\n",
    "    token_info = response.json()\n",
    "    new_access_token = token_info['access_token']\n",
    "    print(\"New Access Token:\", new_access_token)\n",
    "    \n",
    "    # Optionally, update the refresh token if it was returned\n",
    "    if 'refresh_token' in token_info:\n",
    "        new_refresh_token = token_info['refresh_token']\n",
    "\n",
    "else:\n",
    "    print(\"Failed to refresh access token:\", response.status_code, response.text)"
   ]
  },
  {
   "cell_type": "code",
   "execution_count": 13,
   "metadata": {},
   "outputs": [
    {
     "data": {
      "text/plain": [
       "'BQDH-2FOijitgwXYqiPZw61gDnGaQTQpf_BNXgGAg9WsfZUXqhQNFjy1ZzXUti48hQgQfT9QN_PArhv6o8M1APdGIkToSkCwxfIGNiwpqxcqj2S_HXQc0kwmnxhH9ez3U1fLqfnndkWFkDPT0bZnyF46B1jd_gCaOxrL9ka8rXvmJfnLsaTpSlaiAONepGDdKAwc42kQrGvelZur7YyD-zIFrLUJlVFLMG3cbJoJ3qT7Heu-WrfdZ5H_n8u7HSw_ZGrz'"
      ]
     },
     "execution_count": 13,
     "metadata": {},
     "output_type": "execute_result"
    }
   ],
   "source": [
    "new_access_token"
   ]
  },
  {
   "cell_type": "code",
   "execution_count": 6,
   "metadata": {},
   "outputs": [
    {
     "data": {
      "text/plain": [
       "{'access_token': 'BQAbFdiuaaIls9t9oqKlivWe91v4JB3R19DMFR6jD2ySF3nXT2blb3KGr8pkXVAJ0a6O30ZjXo9LajldRCi84tueupo3LIzxpB-S4Zaq0kReEHcXJqM2tpV_awS84UiIev7Gwpbgcv9aWQL_9NVSG75hh9WfQXFcBocx0YGEoB3wuuZBvA8W69MLq1KTxWyOi9H-ufIwPoiph_wi2bMNMpu4vdo5j8buyWtJ7pGW-ZWccO1h7Og505xBgdHSX54Xrl_k',\n",
       " 'token_type': 'Bearer',\n",
       " 'expires_in': 3600,\n",
       " 'scope': 'playlist-modify-private playlist-modify-public user-read-email user-read-private'}"
      ]
     },
     "execution_count": 6,
     "metadata": {},
     "output_type": "execute_result"
    }
   ],
   "source": [
    "token_info"
   ]
  },
  {
   "cell_type": "code",
   "execution_count": 14,
   "metadata": {},
   "outputs": [],
   "source": [
    "# Path to your .env file\n",
    "env_file_path = \".env\""
   ]
  },
  {
   "cell_type": "code",
   "execution_count": 15,
   "metadata": {},
   "outputs": [],
   "source": [
    "# Write the token to the .env file\n",
    "with open(env_file_path, \"w\") as env_file:\n",
    "    env_file.write(f\"OAUTH_TOKEN='{new_access_token}'\\nREFRESH_TOKEN='{refresh_token}'\\nCLIENT_ID='{client_id}'\\nCLIENT_SECRET='{client_secret}'\\nUSER_ID ='{spotify_id}'\\nYOUTUBE_API_KEY='{youtube_api}'\")\n",
    "    "
   ]
  }
 ],
 "metadata": {
  "kernelspec": {
   "display_name": "venv",
   "language": "python",
   "name": "python3"
  },
  "language_info": {
   "codemirror_mode": {
    "name": "ipython",
    "version": 3
   },
   "file_extension": ".py",
   "mimetype": "text/x-python",
   "name": "python",
   "nbconvert_exporter": "python",
   "pygments_lexer": "ipython3",
   "version": "3.9.6"
  }
 },
 "nbformat": 4,
 "nbformat_minor": 2
}
