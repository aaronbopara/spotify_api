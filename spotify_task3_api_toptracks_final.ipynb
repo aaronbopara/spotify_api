{
 "cells": [
  {
   "cell_type": "markdown",
   "metadata": {},
   "source": [
    "# **Spotify Web API Task 3 : Obtaining an Artists Top Tracks**\n",
    "\n",
    "### **Background** ###\n",
    "This notebook provides a step by step guide to obtaining a given artists top tracks on Spotify. We will access the Spotify Web API in order to do so. The program will ask the user to input the name of an artist and will return a list of their top ten tracks\n",
    "\n",
    "### **Prerequisites**\n",
    "Before proceeding, you need to set up a Spotify Developer App and obtain the following details:\n",
    "\n",
    "- **Client ID**: Your application's unique identifier.\n",
    "\n",
    "- **Client Secret** : A secret key for your application, used to authenticate your requests.\n",
    "<br>\n",
    "\n",
    "These credentials can be found on your app's dashboard on the Spotify Developer Portal. Make sure to never hardcode your client ID and client secret directly in your scripts due to security risks. Instead, store them securely, such as in an environment file (.env), and load them into your program as needed.\n",
    "\n",
    "### **Step by Step Guide**\n",
    "\n",
    "Here is a step by step guide to the process : \n",
    "\n",
    "1) **Import Libraries :** Importing the relevant libraries.\n",
    "\n",
    "2) **Import Secrets :** Initialise the .env file and retrieve sensitive information from within.\n",
    "\n",
    "3) **Make Function to Obtain Access Token :** Gain access token from the Spotify Web API \n",
    "\n",
    "4) **Make Function to Make HTTP Headers :** Make headers to use during the Authorisation process.\n",
    "\n",
    "5) **Make Function Which Searches for the Artist :** This will gather information on the specified artist and retrieve their name and artist id.\n",
    "\n",
    "6) **Make Function to Search for the Artists Songs :** This will retrieve the specified artists top tracks on Spotify.\n",
    "\n",
    "7) **Make a Composite Function :** This will combine all functions into one function which can be called all at once. \n",
    "\n",
    "8) **Test Program :** This will test the program and obtain the band SAULT's top tracks."
   ]
  },
  {
   "cell_type": "code",
   "execution_count": 1,
   "metadata": {},
   "outputs": [],
   "source": [
    "# Imports \n",
    "from dotenv import load_dotenv\n",
    "import os \n",
    "import base64\n",
    "from requests import post, get\n",
    "import json"
   ]
  },
  {
   "cell_type": "code",
   "execution_count": 2,
   "metadata": {},
   "outputs": [],
   "source": [
    "# This function gets the authorisation token for our app from the Spotify Web API. \n",
    "# In order to do, we need to use the client_id, client_secret and encode it using the base64 library.\n",
    "def get_token() : \n",
    "    # Initialise the secrets within .env file \n",
    "    load_dotenv()\n",
    "    client_id = os.getenv('CLIENT_ID')\n",
    "    client_secret = os.getenv('CLIENT_SECRET')\n",
    "    # Concatenate our id and secret in order to create the authorisation string \n",
    "    auth_string = client_id + \":\" + client_secret\n",
    "    # Convert the authorisation string into bytes using UTF-8 encoding\n",
    "    auth_bytes = auth_string.encode(\"utf-8\")\n",
    "    # Take the byte sequence and encode it with base 64 encoding\n",
    "    auth_base64 = str(base64.b64encode(auth_bytes), \"utf-8\")\n",
    "\n",
    "    # Making a request to the Spotify Web API\n",
    "    # This specifes the URL of the Spotify API endpoint which issues access tokens \n",
    "    url = 'https://accounts.spotify.com/api/token'\n",
    "    # This contains the HTTP headers that are required to authenicate and specify the requests content type \n",
    "    # Authorization is the encoded authorisation string \n",
    "    # Content-Type specifies the format of the data being sent to the API  \n",
    "    headers = {\n",
    "        \"Authorization\" : \"Basic \" + auth_base64,\n",
    "        \"Content-Type\": \"application/x-www-form-urlencoded\"\n",
    "    }\n",
    "    # Grant_type is used to obtain an access token without requiring user interaction, used typically for server-server connections\n",
    "    data = {\"grant_type\": \"client_credentials\"}\n",
    "    # Stores the response from the HTTP post request made to the Spotify API, specifying the url, headers and grant type we defined earlier \n",
    "    result = post(url, headers = headers, data = data)\n",
    "    # Parsing the JSON response from the API\n",
    "    json_result = json.loads(result.content)\n",
    "    # Extracting the access token \n",
    "    token = json_result[\"access_token\"]\n",
    "    return token "
   ]
  },
  {
   "cell_type": "code",
   "execution_count": 3,
   "metadata": {},
   "outputs": [],
   "source": [
    "# Function to get the correct authorisation header for the API endpoint \n",
    "def get_auth_header (token) : \n",
    "    return {\"Authorization\": \"Bearer \" + token}"
   ]
  },
  {
   "cell_type": "code",
   "execution_count": 4,
   "metadata": {},
   "outputs": [],
   "source": [
    "# Function which locates the artists name and id given the user input\n",
    "def search_for_artist(token) : \n",
    "\n",
    "    # Ask the user to input the artist name \n",
    "    artist_search = input('What Artist do you want to search for?')\n",
    "    # base url for Spotifys URL endpoint \n",
    "    url = \"https://api.spotify.com/v1/search\"\n",
    "    # Call the header function to create the authorization header from earlier \n",
    "    headers = get_auth_header(token)\n",
    "    # Prepare the query parameters, use the API documentation to understand this better\n",
    "    # Limited to the first response\n",
    "    query = f'q={artist_search}&type=artist&limit=1'\n",
    "    query_url = url + '?' + query \n",
    "    # Send the GET request to get the Spotify API \n",
    "    result = get(query_url, headers = headers)\n",
    "    # Parse through the JSON response \n",
    "    json_result = json.loads(result.content)['artists']['items']\n",
    "    # Check if any artist was found given the user inputted artist search term \n",
    "    if len(json_result) == 0: \n",
    "        print('No Artist with this name')\n",
    "        return None \n",
    "    # Return the first artist result\n",
    "    result = json_result[0]\n",
    "    artist_info = []\n",
    "    artist_name = result['name']\n",
    "    artist_id = result['id']\n",
    "    artist_info.append(artist_name)\n",
    "    artist_info.append(artist_id)\n",
    "    return artist_info"
   ]
  },
  {
   "cell_type": "code",
   "execution_count": 12,
   "metadata": {},
   "outputs": [],
   "source": [
    "# Function which gets the top tracks, given a token and list of both the artists name and id \n",
    "def get_top_tracks() : \n",
    "    token = get_token()\n",
    "    artist_info = search_for_artist(token)\n",
    "\n",
    "    artist_name = artist_info[0]\n",
    "    artist_id = artist_info[1]\n",
    "\n",
    "     # Construct the URL for the Spotify Web API endpoint \n",
    "    url = f'https://api.spotify.com/v1/artists/{artist_id}/top-tracks?country=US'\n",
    "     # Generate the headers using the function we made earlier \n",
    "    headers = get_auth_header(token)\n",
    "     # Send the GET request\n",
    "    result = get(url, headers = headers)\n",
    "     # Parse through the JSON response \n",
    "    json_result = json.loads(result.content)['tracks']\n",
    "    songs = json_result\n",
    "    \n",
    "    # Formatting the output of the function\n",
    "    print(f\"{artist_name}'s Top Tracks are :\")\n",
    "    print()\n",
    "    for idx, song in enumerate(songs) : \n",
    "          print(f\"{idx + 1}. {song['name']}\")"
   ]
  },
  {
   "cell_type": "code",
   "execution_count": 13,
   "metadata": {},
   "outputs": [
    {
     "name": "stdout",
     "output_type": "stream",
     "text": [
      "SAULT's Top Tracks are :\n",
      "\n",
      "1. Wildfires\n",
      "2. Why Why Why Why Why\n",
      "3. Envious\n",
      "4. Masterpiece\n",
      "5. Let Me Go\n",
      "6. Fight for Love\n",
      "7. Son Shine\n",
      "8. Free\n",
      "9. Colour Blind\n",
      "10. Up All Night\n"
     ]
    }
   ],
   "source": [
    "get_top_tracks()"
   ]
  }
 ],
 "metadata": {
  "kernelspec": {
   "display_name": "venv",
   "language": "python",
   "name": "python3"
  },
  "language_info": {
   "codemirror_mode": {
    "name": "ipython",
    "version": 3
   },
   "file_extension": ".py",
   "mimetype": "text/x-python",
   "name": "python",
   "nbconvert_exporter": "python",
   "pygments_lexer": "ipython3",
   "version": "3.9.6"
  }
 },
 "nbformat": 4,
 "nbformat_minor": 2
}
